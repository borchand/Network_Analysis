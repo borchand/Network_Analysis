{
 "cells": [
  {
   "cell_type": "code",
   "execution_count": 4,
   "metadata": {},
   "outputs": [],
   "source": [
    "import json \n",
    "import os\n",
    "import glob\n",
    "from tqdm import tqdm"
   ]
  },
  {
   "cell_type": "code",
   "execution_count": 5,
   "metadata": {},
   "outputs": [
    {
     "name": "stderr",
     "output_type": "stream",
     "text": [
      "100%|██████████| 1379/1379 [00:11<00:00, 117.85it/s]\n",
      "100%|██████████| 2067/2067 [00:14<00:00, 143.44it/s]\n",
      "100%|██████████| 423/423 [00:05<00:00, 79.84it/s]\n",
      "100%|██████████| 1176/1176 [00:09<00:00, 126.18it/s]\n"
     ]
    }
   ],
   "source": [
    "datasets = [\n",
    "    \"nyse\",\n",
    "    \"nasdaq\",\n",
    "    \"sp500\",\n",
    "    \"forbes2000\"\n",
    "]\n",
    "x = []\n",
    "for dataset in datasets:\n",
    "    print(dataset)\n",
    "    all_files = glob.glob(f\"../data/stock_market_data/{dataset}/json/*.json\")\n",
    "\n",
    "    for file in tqdm(all_files):\n",
    "        try:\n",
    "            with open(file, 'r') as f:\n",
    "                data = json.load(f)\n",
    "                temp = data['chart']['result'][0]['meta']['instrumentType']\n",
    "            if temp in ['ETF', 'MUTUALFUND']:\n",
    "                x.append(data['chart']['result'][0]['meta']['symbol'])\n",
    "        except:\n",
    "            pass\n"
   ]
  },
  {
   "cell_type": "code",
   "execution_count": 6,
   "metadata": {},
   "outputs": [
    {
     "data": {
      "text/plain": [
       "1005"
      ]
     },
     "execution_count": 6,
     "metadata": {},
     "output_type": "execute_result"
    }
   ],
   "source": [
    "len(set(x))"
   ]
  },
  {
   "cell_type": "code",
   "execution_count": null,
   "metadata": {},
   "outputs": [],
   "source": []
  }
 ],
 "metadata": {
  "kernelspec": {
   "display_name": "Python 3.9.12 ('base')",
   "language": "python",
   "name": "python3"
  },
  "language_info": {
   "codemirror_mode": {
    "name": "ipython",
    "version": 3
   },
   "file_extension": ".py",
   "mimetype": "text/x-python",
   "name": "python",
   "nbconvert_exporter": "python",
   "pygments_lexer": "ipython3",
   "version": "3.9.12"
  },
  "orig_nbformat": 4,
  "vscode": {
   "interpreter": {
    "hash": "753d92843dab88547ed30a2183c2c371a37c3e6fe33e3da8d761872c353c5059"
   }
  }
 },
 "nbformat": 4,
 "nbformat_minor": 2
}
