{
 "cells": [
  {
   "cell_type": "markdown",
   "metadata": {},
   "source": [
    "Dataset: https://www.kaggle.com/datasets/paultimothymooney/stock-market-data?resource=download"
   ]
  },
  {
   "cell_type": "code",
   "execution_count": 2,
   "metadata": {},
   "outputs": [],
   "source": [
    "import pandas as pd\n",
    "import glob"
   ]
  },
  {
   "cell_type": "code",
   "execution_count": 1,
   "metadata": {},
   "outputs": [],
   "source": [
    "datasets = [\n",
    "    \"nyse\",\n",
    "    \"nasdaq\",\n",
    "    \"sp500\",\n",
    "    \"forbes2000\"\n",
    "]"
   ]
  },
  {
   "cell_type": "code",
   "execution_count": 34,
   "metadata": {},
   "outputs": [
    {
     "data": {
      "text/plain": [
       "1083"
      ]
     },
     "execution_count": 34,
     "metadata": {},
     "output_type": "execute_result"
    }
   ],
   "source": [
    "for dataset in datasets:\n",
    "    print(\"Downloading %s\" % dataset)\n",
    "    # Get all files from /data/stock_market_data/dataset/csv\n",
    "    all_files = glob.glob(f\"../data/stock_market_data/{dataset}/csv/*.csv\")\n",
    "    print(len(all_files))\n",
    "    \n",
    "    # For each file in all_files, read the csv file and append it to a list\n",
    "    df_list = []\n",
    "    for file in all_files:\n",
    "        df = pd.read_csv(file)\n",
    "        df_list.append(df)\n",
    "\n",
    "    # Create a dataframe with all the data, including a column with the file name\n",
    "    df = pd.concat(df_list, keys=all_files)\n",
    "    # Extract the ticker from the file name. The ticker is right before .csv\n",
    "    df['ticker'] = df.index.get_level_values(0).str.split('/').str[-1].str.split('.').str[0]\n",
    "    # Reset the index\n",
    "    df = df.reset_index(drop=True)\n",
    "\n",
    "    # Get number of unique tickers\n",
    "    print(df['ticker'].nunique())\n",
    "    print(df.shape)\n",
    "\n",
    "    # Download as a new csv\n",
    "    df.to_csv(f'../data/stock_market_data/{dataset}/combined_data.csv', index=False)"
   ]
  }
 ],
 "metadata": {
  "kernelspec": {
   "display_name": "Python 3.9.12 ('base')",
   "language": "python",
   "name": "python3"
  },
  "language_info": {
   "codemirror_mode": {
    "name": "ipython",
    "version": 3
   },
   "file_extension": ".py",
   "mimetype": "text/x-python",
   "name": "python",
   "nbconvert_exporter": "python",
   "pygments_lexer": "ipython3",
   "version": "3.9.12"
  },
  "orig_nbformat": 4,
  "vscode": {
   "interpreter": {
    "hash": "dbf7d11e5c76cfa05d0059717ea66edf8e6d574069b89e9d0b165aeb9e769df5"
   }
  }
 },
 "nbformat": 4,
 "nbformat_minor": 2
}
