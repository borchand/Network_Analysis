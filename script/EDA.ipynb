{
 "cells": [
  {
   "cell_type": "code",
   "execution_count": 1,
   "metadata": {},
   "outputs": [],
   "source": [
    "import pandas as pd\n",
    "import numpy as np\n",
    "import matplotlib.pyplot as plt\n",
    "import networkx as nx"
   ]
  },
  {
   "cell_type": "code",
   "execution_count": 2,
   "metadata": {},
   "outputs": [],
   "source": [
    "df = pd.read_csv('../data/all_ticker_data.csv', index_col=0, parse_dates=True)\n",
    "corr = df.corr().to_numpy()"
   ]
  },
  {
   "cell_type": "code",
   "execution_count": 4,
   "metadata": {},
   "outputs": [],
   "source": [
    "G = nx.from_numpy_matrix(corr)"
   ]
  },
  {
   "cell_type": "code",
   "execution_count": 46,
   "metadata": {},
   "outputs": [
    {
     "name": "stdout",
     "output_type": "stream",
     "text": [
      "Graph has 3065 nodes and 4698645 edges\n",
      "Average weighted degree:  [('CHW', 0.23698421519312052), ('ARW', 0.23578973873344744), ('NFJ', 0.23216328512616052), ('BTO', 0.23115265815937924), ('AVK', 0.23056208004843753), ('MGA', 0.23046107750361505), ('BMO', 0.22929990055920663), ('AXP', 0.22911874552974082), ('BXMX', 0.2274603958579947), ('ASGN', 0.22531618406786302), ('AFG', 0.2243932877756024), ('BRK-A', 0.22230112317461082), ('KFY', 0.2207784618642697), ('AGM', 0.21884793043678352), ('ADM', 0.21691612365418972)]\n",
      "Top 15 nodes with highest degree:  [(0, 3066), (1, 3066), (2, 3066), (3, 3066), (4, 3066), (5, 3066), (6, 3066), (7, 3066), (8, 3066), (9, 3066), (10, 3066), (11, 3066), (12, 3066), (13, 3066), (14, 3066)]\n"
     ]
    },
    {
     "name": "stderr",
     "output_type": "stream",
     "text": [
      "/var/folders/l3/f_3mf7mx3pzfd9xjv6cltkrc0000gn/T/ipykernel_8843/1715449028.py:6: RuntimeWarning: Mean of empty slice\n",
      "  mean_deg = np.nanmean(corr, axis=0)\n"
     ]
    }
   ],
   "source": [
    "from collections import Counter\n",
    "#desciptive statistics of network\n",
    "print(f'Graph has {G.number_of_nodes()} nodes and {G.number_of_edges()} edges')\n",
    "\n",
    "#average weighted degree\n",
    "mean_deg = np.nanmean(corr, axis=0)\n",
    "mean_deg = mean_deg-np.nanmean(mean_deg)\n",
    "\n",
    "avg_deg = dict(zip(df.columns, mean_deg)) \n",
    "avg_deg = dict(sorted(avg_deg.items(), key=lambda item: item[1], reverse=True))\n",
    "print(f'Average weighted degree: ', list(avg_deg.items())[:15])"
   ]
  },
  {
   "attachments": {},
   "cell_type": "markdown",
   "metadata": {},
   "source": [
    "\n",
    "    Number of nodes: This is simply the total number of nodes in the graph.\n",
    "\n",
    "    Number of edges: This is the total number of edges in the graph.\n",
    "\n",
    "    Density: This is a measure of how many edges there are relative to the number of nodes. It is calculated by dividing the number of edges by the number of possible edges, which is the number of nodes choose 2 (n(n-1)/2).\n",
    "\n",
    "    Average degree: This is the average number of edges per node. It is calculated by dividing the number of edges by the number of nodes.\n",
    "\n",
    "    Average weighted degree: This is the average weight of the edges per node. It is calculated by summing the weights of all the edges incident to a node and dividing by the number of nodes.\n",
    "\n",
    "    Weighted degree centrality: This is a measure of the importance of a node in the graph based on the total weight of its edges. It is calculated by summing the weights of all the edges incident to a node and dividing by the total weight of all the edges in the graph.\n",
    "\n",
    "    Weighted betweenness centrality: This is a measure of the importance of a node in terms of the amount of shortest paths that pass through it. It is calculated by summing the fraction of all-pairs shortest paths that pass through a node for all pairs of nodes in the graph.\n",
    "\n",
    "    Weighted closeness centrality: This is a measure of how close a node is to all other nodes in the graph based on the sum of the weights of the shortest paths between the node and all other nodes. It is calculated by dividing the sum of the weights of the shortest paths between the node and all other nodes by the number of nodes in the graph."
   ]
  }
 ],
 "metadata": {
  "kernelspec": {
   "display_name": "base",
   "language": "python",
   "name": "python3"
  },
  "language_info": {
   "codemirror_mode": {
    "name": "ipython",
    "version": 3
   },
   "file_extension": ".py",
   "mimetype": "text/x-python",
   "name": "python",
   "nbconvert_exporter": "python",
   "pygments_lexer": "ipython3",
   "version": "3.9.13"
  },
  "orig_nbformat": 4,
  "vscode": {
   "interpreter": {
    "hash": "1091f1b9584b16126d959e1e6baecccd273f82381826b825c44bca03b6114737"
   }
  }
 },
 "nbformat": 4,
 "nbformat_minor": 2
}
