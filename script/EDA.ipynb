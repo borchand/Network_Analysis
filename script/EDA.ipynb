{
 "cells": [
  {
   "cell_type": "code",
   "execution_count": 1,
   "metadata": {},
   "outputs": [],
   "source": [
    "import pandas as pd\n",
    "import numpy as np\n",
    "import matplotlib.pyplot as plt\n",
    "import networkx as nx\n",
    "from tqdm import tqdm\n",
    "import seaborn as sns"
   ]
  },
  {
   "cell_type": "code",
   "execution_count": 2,
   "metadata": {},
   "outputs": [],
   "source": [
    "df = pd.read_csv('../data/all_ticker_data.csv', index_col=0, parse_dates=True)\n",
    "year_variation = np.var(df, axis=0)"
   ]
  },
  {
   "cell_type": "code",
   "execution_count": 3,
   "metadata": {},
   "outputs": [],
   "source": [
    "\n",
    "year_data = df[year_variation[year_variation > 0].index]\n",
    "\n",
    "year_data = year_data.dropna(axis=1, how='all') \n",
    "year_data.fillna(0, inplace=True)\n"
   ]
  },
  {
   "cell_type": "code",
   "execution_count": 4,
   "metadata": {},
   "outputs": [],
   "source": [
    "corr = year_data.corr().to_numpy()\n",
    "\n",
    "G = nx.from_numpy_matrix(corr)"
   ]
  },
  {
   "cell_type": "code",
   "execution_count": 13,
   "metadata": {},
   "outputs": [
    {
     "data": {
      "text/plain": [
       "(-0.9512718283304298, 1.0, (3039, 3039))"
      ]
     },
     "execution_count": 13,
     "metadata": {},
     "output_type": "execute_result"
    }
   ],
   "source": [
    "np.min(corr), np.max(corr), corr.shape"
   ]
  },
  {
   "cell_type": "code",
   "execution_count": 38,
   "metadata": {},
   "outputs": [
    {
     "name": "stdout",
     "output_type": "stream",
     "text": [
      "[(0, 3040), (1, 3040), (2, 3040), (3, 3040), (4, 3040), (5, 3040), (6, 3040), (7, 3040), (8, 3040), (9, 3040)]\n",
      "3040.0\n"
     ]
    }
   ],
   "source": [
    "#print lowest 10 degrees\n",
    "print(sorted(G.degree, key=lambda x: x[1])[:10])\n",
    "print(G.number_of_edges()/3039*2)"
   ]
  },
  {
   "cell_type": "code",
   "execution_count": 39,
   "metadata": {},
   "outputs": [],
   "source": [
    "abscorr = np.abs(corr)"
   ]
  },
  {
   "cell_type": "code",
   "execution_count": 40,
   "metadata": {},
   "outputs": [
    {
     "name": "stdout",
     "output_type": "stream",
     "text": [
      "Graph has 3039 nodes and 4619280 edges\n",
      "Average weighted degree:  [('TOWN', 0.698024577133519), ('CASY', 0.69673781571572), ('LTBR', 0.6963105675321609), ('MKC', 0.6957630027956927), ('FFBC', 0.6942428874934317), ('GNOW', 0.6940669470444218), ('PNBK', 0.6938129664354552), ('LXP', 0.6927008119294424), ('GBIM', 0.6925030475038081), ('SAPIF', 0.6921240232634205), ('DHI', 0.6918442507000353), ('BWMG', 0.6917404155533778), ('DMO', 0.6917000828093869), ('VTN', 0.6907948853493618), ('ICL', 0.6903085385911857)]\n"
     ]
    }
   ],
   "source": [
    "from collections import Counter\n",
    "#desciptive statistics of network\n",
    "print(f'Graph has {G.number_of_nodes()} nodes and {G.number_of_edges()} edges')\n",
    "\n",
    "avg_deg = dict(zip(df.columns, np.mean(abscorr, axis=1))) \n",
    "avg_deg = dict(sorted(avg_deg.items(), key=lambda item: item[1], reverse=True))\n",
    "print(f'Average weighted degree: ', list(avg_deg.items())[:15])"
   ]
  }
 ],
 "metadata": {
  "kernelspec": {
   "display_name": "base",
   "language": "python",
   "name": "python3"
  },
  "language_info": {
   "codemirror_mode": {
    "name": "ipython",
    "version": 3
   },
   "file_extension": ".py",
   "mimetype": "text/x-python",
   "name": "python",
   "nbconvert_exporter": "python",
   "pygments_lexer": "ipython3",
   "version": "3.9.13"
  },
  "orig_nbformat": 4,
  "vscode": {
   "interpreter": {
    "hash": "1091f1b9584b16126d959e1e6baecccd273f82381826b825c44bca03b6114737"
   }
  }
 },
 "nbformat": 4,
 "nbformat_minor": 2
}
