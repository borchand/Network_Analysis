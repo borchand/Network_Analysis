{
 "cells": [
  {
   "cell_type": "code",
   "execution_count": 14,
   "metadata": {},
   "outputs": [],
   "source": [
    "import networkx as nx\n",
    "import pandas as pd\n",
    "import numpy as np\n",
    "import matplotlib.pyplot as plt\n",
    "import sys\n",
    "sys.path.append(\"..\") \n",
    "import stockcorr as sc \n",
    "from networkx.algorithms import community\n",
    "from sklearn.cluster import  AffinityPropagation as AP\n"
   ]
  },
  {
   "cell_type": "code",
   "execution_count": 8,
   "metadata": {},
   "outputs": [
    {
     "name": "stdout",
     "output_type": "stream",
     "text": [
      "calculating corr matrix\n",
      "A has 884701 nan values\n",
      "calculating corr matrix\n",
      "A has 856541 nan values\n",
      "calculating corr matrix\n",
      "A has 829984 nan values\n",
      "calculating corr matrix\n",
      "A has 778072 nan values\n",
      "calculating corr matrix\n",
      "A has 709273 nan values\n",
      "calculating corr matrix\n",
      "A has 557527 nan values\n",
      "calculating corr matrix\n",
      "A has 512382 nan values\n",
      "calculating corr matrix\n",
      "A has 397991 nan values\n",
      "calculating corr matrix\n",
      "A has 285840 nan values\n",
      "calculating corr matrix\n",
      "A has 184634 nan values\n",
      "calculating corr matrix\n",
      "A has 120634 nan values\n",
      "calculating corr matrix\n",
      "A has 107794 nan values\n",
      "calculating corr matrix\n",
      "A has 121689 nan values\n",
      "calculating corr matrix\n",
      "A has 94235 nan values\n",
      "calculating corr matrix\n",
      "A has 124344 nan values\n",
      "calculating corr matrix\n",
      "A has 110027 nan values\n",
      "calculating corr matrix\n",
      "A has 64869 nan values\n",
      "calculating corr matrix\n",
      "A has 85581 nan values\n"
     ]
    }
   ],
   "source": [
    "## Makes so that there is no output\n",
    "\n",
    "\n",
    "## Read in data\n",
    "stock_df = pd.read_csv('../../data/stock_market_data/stockdf.csv')\n",
    "\n",
    "\n",
    "## Convert date to datetime\n",
    "stock_df['Date'] = pd.to_datetime(stock_df['Date'])\n",
    "\n",
    "\n",
    "## find first date of every year in the stockdf\n",
    "\n",
    "first_date = stock_df['Date'].dt.year.drop_duplicates()\n",
    "\n",
    "## split the stockdf into dataframes, one for each year\n",
    "\n",
    "dataframes_ = [stock_df[stock_df['Date'].dt.year == year] for year in first_date]\n",
    "dataframes_ = [df.set_index('Date') for df in dataframes_]\n",
    "corr_list = []\n",
    "for i in dataframes_:\n",
    "    curr_ = sc.get_corr_matrix(i, 0.9)\n",
    "    ## make every value to 1 if above 0\n",
    "    curr_ = np.where(curr_ > 0, 1, 0)\n",
    "    corr_list.append(curr_)\n",
    "\n",
    "## sum all correlation matrices in corr_list\n",
    "\n",
    "total_sum = sum(corr_list)\n",
    "\n",
    "\n"
   ]
  },
  {
   "cell_type": "code",
   "execution_count": 9,
   "metadata": {},
   "outputs": [],
   "source": [
    "## create graph from total_sum with weighted edges\n",
    "G = nx.from_numpy_matrix(total_sum)\n",
    "\n",
    "\n",
    "# communities = community.greedy_modularity_communities(G)\n",
    "#     #position by community\n",
    "# colorlist = [ 'r', 'g', 'b', 'c', 'm', 'y', 'brown', 'orange', 'purple' ]\n",
    "\n",
    "# setLst = list(communities)\n",
    "# plt.figure(figsize = (50,30))\n",
    "# for index, sg in enumerate(setLst):\n",
    "#     #draw with orange color text\n",
    "#     print(index)\n",
    "#     pos = nx.spring_layout(G.subgraph(sg))\n",
    "#     nx.draw(G.subgraph(sg), pos= pos, node_color= colorlist[index % 7], with_labels=True)\n",
    "# plt.show()\n",
    "\n",
    "\n",
    "# G.remove_nodes_from(list(nx.isolates(G)))\n",
    "# pos = nx.spring_layout(G)\n",
    "# colorlist = [ 'r', 'g', 'b', 'c', 'm', 'y', 'brown', 'orange', 'purple' ]\n",
    "# wcc = nx.connected_components( G )\n",
    "# setLst = list(wcc) \n",
    "# len(setLst)\n",
    "# plt.figure(figsize = (50,30))\n",
    "# for index, sg in enumerate(setLst):\n",
    "#     #draw with orange color text\n",
    "#     nx.draw(G.subgraph(sg), pos= pos, node_color= colorlist[index % 7], with_labels=True, font_size=20)\n",
    "# plt.show()"
   ]
  },
  {
   "cell_type": "code",
   "execution_count": 12,
   "metadata": {},
   "outputs": [
    {
     "name": "stdout",
     "output_type": "stream",
     "text": [
      "calculating corr matrix\n",
      "A has 884701 nan values\n",
      "calculating corr matrix\n",
      "A has 856541 nan values\n",
      "calculating corr matrix\n",
      "A has 829984 nan values\n",
      "calculating corr matrix\n",
      "A has 778072 nan values\n",
      "calculating corr matrix\n",
      "A has 709273 nan values\n",
      "calculating corr matrix\n",
      "A has 557527 nan values\n",
      "calculating corr matrix\n",
      "A has 512382 nan values\n",
      "calculating corr matrix\n",
      "A has 397991 nan values\n",
      "calculating corr matrix\n",
      "A has 285840 nan values\n",
      "calculating corr matrix\n",
      "A has 184634 nan values\n",
      "calculating corr matrix\n",
      "A has 120634 nan values\n",
      "calculating corr matrix\n",
      "A has 107794 nan values\n",
      "calculating corr matrix\n",
      "A has 121689 nan values\n",
      "calculating corr matrix\n",
      "A has 94235 nan values\n",
      "calculating corr matrix\n",
      "A has 124344 nan values\n",
      "calculating corr matrix\n",
      "A has 110027 nan values\n",
      "calculating corr matrix\n",
      "A has 64869 nan values\n",
      "calculating corr matrix\n",
      "A has 85581 nan values\n"
     ]
    },
    {
     "data": {
      "text/plain": [
       "[array([[0, 0, 0, ..., 0, 0, 0],\n",
       "        [0, 0, 0, ..., 0, 0, 0],\n",
       "        [0, 0, 0, ..., 0, 0, 0],\n",
       "        ...,\n",
       "        [0, 0, 0, ..., 0, 0, 0],\n",
       "        [0, 0, 0, ..., 0, 0, 0],\n",
       "        [0, 0, 0, ..., 0, 0, 0]]),\n",
       " array([[0, 0, 0, ..., 0, 0, 0],\n",
       "        [0, 0, 0, ..., 0, 0, 0],\n",
       "        [0, 0, 0, ..., 0, 0, 0],\n",
       "        ...,\n",
       "        [0, 0, 0, ..., 0, 0, 0],\n",
       "        [0, 0, 0, ..., 0, 0, 0],\n",
       "        [0, 0, 0, ..., 0, 0, 0]]),\n",
       " array([[0, 0, 0, ..., 0, 0, 0],\n",
       "        [0, 0, 0, ..., 0, 0, 0],\n",
       "        [0, 0, 0, ..., 0, 0, 0],\n",
       "        ...,\n",
       "        [0, 0, 0, ..., 0, 0, 0],\n",
       "        [0, 0, 0, ..., 0, 0, 0],\n",
       "        [0, 0, 0, ..., 0, 0, 0]]),\n",
       " array([[0, 1, 0, ..., 1, 0, 0],\n",
       "        [1, 0, 0, ..., 1, 1, 0],\n",
       "        [0, 0, 0, ..., 0, 0, 0],\n",
       "        ...,\n",
       "        [1, 1, 0, ..., 0, 0, 0],\n",
       "        [0, 1, 0, ..., 0, 0, 0],\n",
       "        [0, 0, 0, ..., 0, 0, 0]]),\n",
       " array([[0, 1, 0, ..., 1, 0, 0],\n",
       "        [1, 0, 0, ..., 1, 0, 0],\n",
       "        [0, 0, 0, ..., 0, 0, 0],\n",
       "        ...,\n",
       "        [1, 1, 0, ..., 0, 0, 0],\n",
       "        [0, 0, 0, ..., 0, 0, 0],\n",
       "        [0, 0, 0, ..., 0, 0, 0]]),\n",
       " array([[0, 0, 0, ..., 0, 0, 0],\n",
       "        [0, 0, 0, ..., 0, 0, 0],\n",
       "        [0, 0, 0, ..., 0, 0, 0],\n",
       "        ...,\n",
       "        [0, 0, 0, ..., 0, 0, 0],\n",
       "        [0, 0, 0, ..., 0, 0, 0],\n",
       "        [0, 0, 0, ..., 0, 0, 0]]),\n",
       " array([[0, 0, 0, ..., 0, 1, 0],\n",
       "        [0, 0, 0, ..., 0, 0, 0],\n",
       "        [0, 0, 0, ..., 0, 0, 0],\n",
       "        ...,\n",
       "        [0, 0, 0, ..., 0, 0, 0],\n",
       "        [1, 0, 0, ..., 0, 0, 0],\n",
       "        [0, 0, 0, ..., 0, 0, 0]]),\n",
       " array([[0, 0, 0, ..., 0, 0, 0],\n",
       "        [0, 0, 0, ..., 0, 0, 0],\n",
       "        [0, 0, 0, ..., 0, 0, 0],\n",
       "        ...,\n",
       "        [0, 0, 0, ..., 0, 0, 0],\n",
       "        [0, 0, 0, ..., 0, 0, 0],\n",
       "        [0, 0, 0, ..., 0, 0, 0]]),\n",
       " array([[0, 0, 0, ..., 0, 0, 0],\n",
       "        [0, 0, 0, ..., 0, 0, 0],\n",
       "        [0, 0, 0, ..., 0, 0, 0],\n",
       "        ...,\n",
       "        [0, 0, 0, ..., 0, 0, 1],\n",
       "        [0, 0, 0, ..., 0, 0, 0],\n",
       "        [0, 0, 0, ..., 1, 0, 0]]),\n",
       " array([[0, 0, 0, ..., 0, 0, 0],\n",
       "        [0, 0, 0, ..., 0, 0, 0],\n",
       "        [0, 0, 0, ..., 0, 0, 0],\n",
       "        ...,\n",
       "        [0, 0, 0, ..., 0, 0, 0],\n",
       "        [0, 0, 0, ..., 0, 0, 0],\n",
       "        [0, 0, 0, ..., 0, 0, 0]]),\n",
       " array([[0, 0, 0, ..., 0, 0, 0],\n",
       "        [0, 0, 0, ..., 0, 0, 0],\n",
       "        [0, 0, 0, ..., 0, 0, 0],\n",
       "        ...,\n",
       "        [0, 0, 0, ..., 0, 0, 0],\n",
       "        [0, 0, 0, ..., 0, 0, 0],\n",
       "        [0, 0, 0, ..., 0, 0, 0]]),\n",
       " array([[0, 0, 0, ..., 0, 0, 0],\n",
       "        [0, 0, 0, ..., 0, 0, 0],\n",
       "        [0, 0, 0, ..., 0, 0, 0],\n",
       "        ...,\n",
       "        [0, 0, 0, ..., 0, 0, 0],\n",
       "        [0, 0, 0, ..., 0, 0, 0],\n",
       "        [0, 0, 0, ..., 0, 0, 0]]),\n",
       " array([[0, 0, 0, ..., 0, 0, 0],\n",
       "        [0, 0, 0, ..., 0, 0, 0],\n",
       "        [0, 0, 0, ..., 0, 0, 0],\n",
       "        ...,\n",
       "        [0, 0, 0, ..., 0, 0, 0],\n",
       "        [0, 0, 0, ..., 0, 0, 0],\n",
       "        [0, 0, 0, ..., 0, 0, 0]]),\n",
       " array([[0, 0, 0, ..., 0, 0, 0],\n",
       "        [0, 0, 0, ..., 0, 0, 0],\n",
       "        [0, 0, 0, ..., 0, 0, 0],\n",
       "        ...,\n",
       "        [0, 0, 0, ..., 0, 0, 0],\n",
       "        [0, 0, 0, ..., 0, 0, 0],\n",
       "        [0, 0, 0, ..., 0, 0, 0]]),\n",
       " array([[0, 0, 0, ..., 0, 0, 0],\n",
       "        [0, 0, 0, ..., 0, 0, 0],\n",
       "        [0, 0, 0, ..., 0, 0, 0],\n",
       "        ...,\n",
       "        [0, 0, 0, ..., 0, 0, 0],\n",
       "        [0, 0, 0, ..., 0, 0, 0],\n",
       "        [0, 0, 0, ..., 0, 0, 0]]),\n",
       " array([[0, 0, 0, ..., 0, 1, 0],\n",
       "        [0, 0, 0, ..., 0, 0, 0],\n",
       "        [0, 0, 0, ..., 0, 0, 0],\n",
       "        ...,\n",
       "        [0, 0, 0, ..., 0, 0, 0],\n",
       "        [1, 0, 0, ..., 0, 0, 0],\n",
       "        [0, 0, 0, ..., 0, 0, 0]]),\n",
       " array([[0, 0, 0, ..., 0, 0, 0],\n",
       "        [0, 0, 0, ..., 0, 0, 0],\n",
       "        [0, 0, 0, ..., 0, 0, 0],\n",
       "        ...,\n",
       "        [0, 0, 0, ..., 0, 0, 0],\n",
       "        [0, 0, 0, ..., 0, 0, 0],\n",
       "        [0, 0, 0, ..., 0, 0, 0]]),\n",
       " array([[0, 1, 1, ..., 0, 0, 0],\n",
       "        [1, 0, 1, ..., 0, 0, 0],\n",
       "        [1, 1, 0, ..., 0, 0, 0],\n",
       "        ...,\n",
       "        [0, 0, 0, ..., 0, 0, 0],\n",
       "        [0, 0, 0, ..., 0, 0, 0],\n",
       "        [0, 0, 0, ..., 0, 0, 0]])]"
      ]
     },
     "execution_count": 12,
     "metadata": {},
     "output_type": "execute_result"
    }
   ],
   "source": [
    "corr_, total_sum,X = cw.split_into_years()\n",
    "corr_"
   ]
  },
  {
   "cell_type": "code",
   "execution_count": 17,
   "metadata": {},
   "outputs": [
    {
     "name": "stdout",
     "output_type": "stream",
     "text": [
      "calculating corr matrix\n",
      "A has 2294 nan values\n"
     ]
    }
   ],
   "source": [
    "stockdf = pd.read_csv('./../data/stock_market_data/stockdf.csv')\n",
    "\n",
    "corr_df = sc.get_corr_matrix(stockdf)\n",
    "\n",
    "corr_df = np.where(np.isfinite(corr_df), corr_df, 0)\n"
   ]
  },
  {
   "cell_type": "code",
   "execution_count": 18,
   "metadata": {},
   "outputs": [],
   "source": [
    "## make corr_df into a graph\n",
    "G = nx.from_numpy_matrix(corr_df)\n",
    "\n",
    "A = nx.to_scipy_sparse_matrix(G)\n",
    "\n",
    "\n",
    "clustering = AP().fit(A)\n",
    "\n"
   ]
  },
  {
   "cell_type": "code",
   "execution_count": 29,
   "metadata": {},
   "outputs": [
    {
     "data": {
      "text/plain": [
       "array([  41,   49,   74,   96,  150,  198,  254,  291,  303,  379,  381,\n",
       "        391,  408,  418,  419,  515,  529,  540,  556,  569,  636,  644,\n",
       "        651,  705,  726,  768,  771,  773,  785,  796,  805,  812,  822,\n",
       "        830,  865,  879,  885,  901,  905,  957,  958, 1006, 1007, 1062,\n",
       "       1077])"
      ]
     },
     "execution_count": 29,
     "metadata": {},
     "output_type": "execute_result"
    }
   ],
   "source": [
    "# Find index of clusters\n",
    "clustering.cluster_centers_indices_\n"
   ]
  },
  {
   "cell_type": "code",
   "execution_count": 36,
   "metadata": {},
   "outputs": [
    {
     "name": "stdout",
     "output_type": "stream",
     "text": [
      "[[ 0.42315308  0.16039101  0.0686944  ...  0.36292592  0.28362043\n",
      "   0.34920582]\n",
      " [-0.77348003 -0.13568486 -0.07638719 ... -0.83384341 -0.86362423\n",
      "  -0.62460159]\n",
      " [ 0.96967486  0.0291786   0.00831239 ...  0.90068563  0.9683254\n",
      "   0.89020769]\n",
      " ...\n",
      " [-0.39773543 -0.09401366 -0.3894658  ...  0.58789066  0.44269389\n",
      "  -0.34050307]\n",
      " [-0.39080415 -0.49610732  0.67950147 ... -0.21324045 -0.41197823\n",
      "  -0.44122471]\n",
      " [ 0.95423646 -0.38542117 -0.3724553  ...  0.          0.95327434\n",
      "   0.85324536]]\n"
     ]
    },
    {
     "data": {
      "text/plain": [
       "array([30, 13, 16, ..., 44, 44,  2])"
      ]
     },
     "execution_count": 36,
     "metadata": {},
     "output_type": "execute_result"
    }
   ],
   "source": [
    "## Find all the clusters of clsutering\n",
    "print(clustering.cluster_centers_)\n",
    "\n",
    "## Find labels of each node in each cluster\n",
    "clustering.labels_"
   ]
  }
 ],
 "metadata": {
  "kernelspec": {
   "display_name": "tf26",
   "language": "python",
   "name": "python3"
  },
  "language_info": {
   "codemirror_mode": {
    "name": "ipython",
    "version": 3
   },
   "file_extension": ".py",
   "mimetype": "text/x-python",
   "name": "python",
   "nbconvert_exporter": "python",
   "pygments_lexer": "ipython3",
   "version": "3.10.0"
  },
  "orig_nbformat": 4,
  "vscode": {
   "interpreter": {
    "hash": "3d35c474c8de1c0ac60e793efd9b538b1d2fc01e6bc02f4151b517deb44b72ec"
   }
  }
 },
 "nbformat": 4,
 "nbformat_minor": 2
}
