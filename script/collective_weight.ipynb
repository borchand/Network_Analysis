{
 "cells": [
  {
   "cell_type": "code",
   "execution_count": null,
   "metadata": {},
   "outputs": [],
   "source": [
    "import networkx as nx\n",
    "import pandas as pd\n",
    "import numpy as np\n",
    "import matplotlib.pyplot as plt\n",
    "import stockcorr as sc \n",
    "from networkx.algorithms import community"
   ]
  },
  {
   "cell_type": "code",
   "execution_count": null,
   "metadata": {},
   "outputs": [],
   "source": [
    "stock_df = pd.read_csv('../data/stock_market_data/stockdf.csv')\n",
    "\n",
    "\n",
    "## Convert date to datetime\n",
    "stock_df['Date'] = pd.to_datetime(stock_df['Date'])\n",
    "\n",
    "\n",
    "## find first date of every year in the stockdf\n",
    "\n",
    "first_date = stock_df['Date'].dt.year.drop_duplicates()\n",
    "\n",
    "## split the stockdf into dataframes, one for each year\n",
    "\n",
    "dataframes_ = [stock_df[stock_df['Date'].dt.year == year] for year in first_date]\n",
    "\n",
    "corr_list = []\n",
    "for i in dataframes_:\n",
    "    curr_ = sc.get_corr_matrix(i, 0.9)\n",
    "    ## make every value to 1 if above 0\n",
    "    curr_ = np.where(curr_ > 0, 1, 0)\n",
    "    corr_list.append(curr_)\n",
    "\n",
    "## sum all correlation matrices in corr_list\n",
    "\n",
    "total_sum = sum(corr_list)\n",
    "\n",
    "\n"
   ]
  },
  {
   "cell_type": "code",
   "execution_count": null,
   "metadata": {},
   "outputs": [],
   "source": [
    "## create graph from total_sum with weighted edges\n",
    "G = nx.from_numpy_matrix(total_sum)\n",
    "\n",
    "\n",
    "communities = community.greedy_modularity_communities(G)\n",
    "    #position by community\n",
    "colorlist = [ 'r', 'g', 'b', 'c', 'm', 'y', 'brown', 'orange', 'purple' ]\n",
    "\n",
    "setLst = list(communities)\n",
    "plt.figure(figsize = (50,30))\n",
    "for index, sg in enumerate(setLst):\n",
    "    #draw with orange color text\n",
    "    print(index)\n",
    "    pos = nx.spring_layout(G.subgraph(sg))\n",
    "    nx.draw(G.subgraph(sg), pos= pos, node_color= colorlist[index % 7], with_labels=True)\n",
    "plt.show()\n",
    "\n",
    "\n",
    "# G.remove_nodes_from(list(nx.isolates(G)))\n",
    "# pos = nx.spring_layout(G)\n",
    "# colorlist = [ 'r', 'g', 'b', 'c', 'm', 'y', 'brown', 'orange', 'purple' ]\n",
    "# wcc = nx.connected_components( G )\n",
    "# setLst = list(wcc) \n",
    "# len(setLst)\n",
    "# plt.figure(figsize = (50,30))\n",
    "# for index, sg in enumerate(setLst):\n",
    "#     #draw with orange color text\n",
    "#     nx.draw(G.subgraph(sg), pos= pos, node_color= colorlist[index % 7], with_labels=True, font_size=20)\n",
    "# plt.show()"
   ]
  },
  {
   "cell_type": "code",
   "execution_count": null,
   "metadata": {},
   "outputs": [],
   "source": []
  }
 ],
 "metadata": {
  "kernelspec": {
   "display_name": "Python 3.10.0 ('tf26')",
   "language": "python",
   "name": "python3"
  },
  "language_info": {
   "codemirror_mode": {
    "name": "ipython",
    "version": 3
   },
   "file_extension": ".py",
   "mimetype": "text/x-python",
   "name": "python",
   "nbconvert_exporter": "python",
   "pygments_lexer": "ipython3",
   "version": "3.10.0"
  },
  "orig_nbformat": 4,
  "vscode": {
   "interpreter": {
    "hash": "3d35c474c8de1c0ac60e793efd9b538b1d2fc01e6bc02f4151b517deb44b72ec"
   }
  }
 },
 "nbformat": 4,
 "nbformat_minor": 2
}
